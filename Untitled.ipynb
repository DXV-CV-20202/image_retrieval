{
 "cells": [
  {
   "cell_type": "code",
   "execution_count": 1,
   "id": "brown-cathedral",
   "metadata": {},
   "outputs": [],
   "source": [
    "import json\n",
    "import time\n",
    "\n",
    "import cv2\n",
    "import numpy as np\n",
    "import pymongo\n",
    "from pymongo import message\n",
    "from scipy.spatial import KDTree\n",
    "\n",
    "from ir_utils import *"
   ]
  },
  {
   "cell_type": "code",
   "execution_count": 5,
   "id": "freelance-cliff",
   "metadata": {},
   "outputs": [],
   "source": [
    "db_cfg_path='./config/database.json'\n",
    "connect_name='mongodb'\n",
    "extr_cfg_path='./config/feature_extractor.json'\n",
    "list_features=['deep_represetation']\n",
    "testset_path = './data/cifar-10/test.json'"
   ]
  },
  {
   "cell_type": "code",
   "execution_count": 6,
   "id": "historic-habitat",
   "metadata": {},
   "outputs": [],
   "source": [
    "with open(db_cfg_path) as f:\n",
    "    db_config = json.load(f)\n",
    "db_config = db_config[connect_name]\n",
    "del db_config['name']\n",
    "client = pymongo.MongoClient(**db_config)\n",
    "db = client.image_retrieval\n",
    "collection = db.image_features\n",
    "collection = collection.find()\n",
    "collection = list(collection)\n",
    "\n",
    "with open(extr_cfg_path) as f:\n",
    "    extractors_cfg = json.load(f)\n",
    "\n",
    "extractors_dict = dict()\n",
    "\n",
    "for extractor_cfg in extractors_cfg:\n",
    "    extractors_dict[extractor_cfg['name']] = extractor_cfg\n",
    "\n",
    "extractors = []\n",
    "for ft in list_features:\n",
    "    extractors.append(create_extractor(extractors_dict[ft])['extractor'])"
   ]
  },
  {
   "cell_type": "code",
   "execution_count": 7,
   "id": "specialized-carry",
   "metadata": {},
   "outputs": [],
   "source": [
    "class EuclideanDistance:\n",
    "    def __init__(self) -> None:\n",
    "        pass\n",
    "    def calculate_distance(self, x, y):\n",
    "        return np.linalg.norm(x-y)\n",
    "metric = EuclideanDistance()"
   ]
  }
 ],
 "metadata": {
  "kernelspec": {
   "display_name": "ir_venv",
   "language": "python",
   "name": "ir_venv"
  },
  "language_info": {
   "codemirror_mode": {
    "name": "ipython",
    "version": 3
   },
   "file_extension": ".py",
   "mimetype": "text/x-python",
   "name": "python",
   "nbconvert_exporter": "python",
   "pygments_lexer": "ipython3",
   "version": "3.7.1"
  }
 },
 "nbformat": 4,
 "nbformat_minor": 5
}
