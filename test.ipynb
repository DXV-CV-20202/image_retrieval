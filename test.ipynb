{
 "cells": [
  {
   "cell_type": "code",
   "execution_count": 14,
   "metadata": {},
   "outputs": [
    {
     "output_type": "stream",
     "name": "stdout",
     "text": [
      "389\n(389, 128)\n"
     ]
    }
   ],
   "source": [
    "from feature_extractor import *\n",
    "extractor = SIFT()\n",
    "image = cv2.imread('Untitled.png', cv2.IMREAD_COLOR)\n",
    "kp, des = extractor.extract(image)\n",
    "print(len(kp))\n",
    "print(des.shape)"
   ]
  },
  {
   "cell_type": "code",
   "execution_count": 2,
   "id": "supposed-accountability",
   "metadata": {},
   "outputs": [
    {
     "output_type": "stream",
     "name": "stdout",
     "text": [
      "[  2.57727183   5.74679831  10.58957531  10.05163076  20.54679149\n -13.51459268  20.50110476]\n[  2.61237085   5.79269127  10.66831179  10.10537749  20.57379756\n -13.40731184  20.74433195]\n"
     ]
    }
   ],
   "source": [
    "from feature_extractor import HuMoments\n",
    "import cv2\n",
    "\n",
    "extractor = HuMoments()\n",
    "image = cv2.imread('Untitled.png', cv2.IMREAD_COLOR)\n",
    "features = extractor.extract(image)\n",
    "print(features)\n",
    "image = cv2.imread('Untitled.png', cv2.IMREAD_GRAYSCALE)\n",
    "features = extractor.extract(image)\n",
    "print(features)"
   ]
  },
  {
   "cell_type": "code",
   "execution_count": 9,
   "metadata": {},
   "outputs": [
    {
     "output_type": "stream",
     "name": "stdout",
     "text": [
      "[[0.04687787]\n [0.07837174]\n [0.13816793]\n [0.31640455]\n [0.31640455]\n [0.17254841]\n [0.03771167]\n [0.02087594]\n [0.03490355]\n [0.0566633 ]\n [0.08689234]\n [0.14488405]\n [0.28522077]\n [0.31640455]\n [0.18477139]\n [0.04445079]\n [0.02782844]\n [0.03335017]\n [0.03107813]\n [0.0562946 ]\n [0.09884617]\n [0.31640455]\n [0.31640455]\n [0.22631736]\n [0.05736815]\n [0.03653723]\n [0.04571319]\n [0.05021108]\n [0.06413669]\n [0.08571801]\n [0.26098004]\n [0.31640455]\n [0.16158241]\n [0.04202996]\n [0.03720671]\n [0.03985576]]\n"
     ]
    }
   ],
   "source": [
    "from feature_extractor import *\n",
    "extractor = HOG()\n",
    "image = cv2.imread('Untitled.png', cv2.IMREAD_COLOR)\n",
    "ft = extractor.extract(image)\n",
    "print(ft)"
   ]
  }
 ],
 "metadata": {
  "kernelspec": {
   "name": "python371jvsc74a57bd068fcf9e31b112397606316d4253d31858aea933875ad03aaa136bb0c0bba5318",
   "display_name": "Python 3.7.1 64-bit"
  },
  "language_info": {
   "name": "",
   "version": "3.7.1"
  }
 },
 "nbformat": 4,
 "nbformat_minor": 5
}